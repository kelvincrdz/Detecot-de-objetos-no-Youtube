{
  "nbformat": 4,
  "nbformat_minor": 0,
  "metadata": {
    "colab": {
      "name": "SSD_Pytorch_Video.ipynb",
      "provenance": [],
      "collapsed_sections": [],
      "include_colab_link": true
    },
    "kernelspec": {
      "name": "python3",
      "display_name": "Python 3"
    },
    "accelerator": "GPU"
  },
  "cells": [
    {
      "cell_type": "markdown",
      "metadata": {
        "id": "view-in-github",
        "colab_type": "text"
      },
      "source": [
        "<a href=\"https://colab.research.google.com/github/kelvincrdz/Detecot-de-objetos-no-Youtube/blob/main/notebooks/youtube_Video_obj_detector.ipynb\" target=\"_parent\"><img src=\"https://colab.research.google.com/assets/colab-badge.svg\" alt=\"Open In Colab\"/></a>"
      ]
    },
    {
      "metadata": {
        "id": "-AxByFTdSbcC"
      },
      "cell_type": "code",
      "source": [
        "import os\n",
        "from os.path import exists, join, basename, splitext\n",
        "\n",
        "git_repo_url = 'https://github.com/amdegroot/ssd.pytorch.git'\n",
        "project_name = splitext(basename(git_repo_url))[0]\n",
        "if not exists(project_name):\n",
        "    # clonar e instalar dependências\n",
        "    !git clone -q $git_repo_url\n",
        "    !pip install -q youtube-dl\n",
        "    !wget https://raw.githubusercontent.com/kelvincrdz/Detecot-de-objetos-no-Youtube/main/detection.py && mv detection.py ssd.pytorch/layers/functions\n",
        "    !wget https://raw.githubusercontent.com/kelvincrdz/Detecot-de-objetos-no-Youtube/main/ssd.py && mv ssd.py ssd.pytorch/\n",
        "  \n",
        "import sys\n",
        "sys.path.append(project_name)\n",
        "import time\n",
        "import matplotlib\n",
        "import matplotlib.pylab as plt\n",
        "plt.rcParams[\"axes.grid\"] = False\n",
        "\n",
        "from IPython.display import YouTubeVideo"
      ],
      "execution_count": 10,
      "outputs": []
    },
    {
      "metadata": {
        "id": "uXCFWDLm6Fdn"
      },
      "cell_type": "markdown",
      "source": [
        "## Download o SSD300 modelo pre treinado"
      ]
    },
    {
      "metadata": {
        "id": "ZYm1oIWUSnTg"
      },
      "cell_type": "code",
      "source": [
        "\n",
        "PRETRAINED_MODEL_URL = 'https://s3.amazonaws.com/amdegroot-models/ssd300_mAP_77.43_v2.pth'\n",
        "pretrained_model = basename(PRETRAINED_MODEL_URL)\n",
        "if not exists(pretrained_model):\n",
        "  !wget -q $PRETRAINED_MODEL_URL"
      ],
      "execution_count": 11,
      "outputs": []
    },
    {
      "metadata": {
        "id": "wTccKFeT6Lbr"
      },
      "cell_type": "markdown",
      "source": [
        "\n",
        "## Preparando modelo"
      ]
    },
    {
      "metadata": {
        "id": "0OQCE6fUS9td"
      },
      "cell_type": "code",
      "source": [
        "\n",
        "!sed -i 's/HOME = os.path.expanduser(\"~\")/HOME = \"$project_name\"/' $project_name/data/config.py\n",
        "!sed -i \"s/COCO_ROOT = osp.join(HOME, 'data\\/coco\\/')/COCO_ROOT = '$project_name\\/data'/\" $project_name/data/coco.py\n",
        "!sed -i 's/if scores.dim() == 0/if scores.size(0) == 0/' $project_name/layers/functions/detection.py\n",
        "\n",
        "import random\n",
        "import cv2\n",
        "import numpy as np\n",
        "import torch\n",
        "\n",
        "from ssd import build_ssd\n",
        "from data import VOC_CLASSES as labels\n",
        "colors = [[random.randint(0, 255) for _ in range(3)] for _ in labels]\n",
        "\n",
        "# build SS model\n",
        "net = build_ssd('test', 300, 21)    # initialize SSD\n",
        "net.load_weights(pretrained_model)\n",
        "net.eval()\n",
        "torch.set_grad_enabled(False)\n",
        "\n",
        "if torch.cuda.is_available():\n",
        "  net = net.cuda()\n",
        "\n",
        "if torch.cuda.is_available():\n",
        "    torch.set_default_tensor_type('torch.cuda.FloatTensor')\n",
        "else:\n",
        "    torch.set_default_tensor_type('torch.FloatTensor')\n",
        "\n",
        "\n",
        "def test(rgb_image, threshold=0.6):\n",
        "  x = cv2.resize(rgb_image, (300, 300)).astype(np.float32)\n",
        "  x -= (123.0, 117.0, 104.0)\n",
        "  x = torch.from_numpy(x.astype(np.float32)).permute(2, 0, 1)\n",
        "  x = x.unsqueeze(0)\n",
        "  if torch.cuda.is_available():\n",
        "    x = x.cuda()\n",
        "  \n",
        "  t = time.time()\n",
        "  detections = net(x)\n",
        "  \n",
        "  # draw boxes and labels\n",
        "  result_img = np.array(rgb_image)\n",
        "  scale = torch.Tensor(rgb_image.shape[1::-1]).repeat(2)\n",
        "  for i in range(detections.size(1)):\n",
        "    j = 0\n",
        "    while detections[0,i,j,0] >= threshold:\n",
        "      score = detections[0,i,j,0]\n",
        "      label = labels[i-1]\n",
        "      display_txt = '%s: %.2f'%(label, score)\n",
        "      pt = (detections[0,i,j,1:]*scale).cpu().numpy()\n",
        "      color = colors[i-1]\n",
        "\n",
        "      # draw box\n",
        "      tl = round(0.002 * max(result_img.shape[0:2])) + 1  # line thickness\n",
        "      c1, c2 = (int(pt[0]), int(pt[1])), (int(pt[2]), int(pt[3]))\n",
        "      cv2.rectangle(result_img, c1, c2, color, thickness=tl)\n",
        "\n",
        "      # draw text\n",
        "      tf = max(tl - 1, 1)  # font thickness\n",
        "      t_size = cv2.getTextSize(display_txt, 0, fontScale=tl / 3, thickness=tf)[0]\n",
        "      c2 = c1[0] + t_size[0], c1[1] - t_size[1] - 3\n",
        "      cv2.rectangle(result_img, c1, c2, color, -1)  # filled\n",
        "      cv2.putText(result_img, display_txt, (c1[0], c1[1] - 2), 0, tl / 3, [225, 255, 255], thickness=tf, lineType=cv2.LINE_AA)\n",
        "\n",
        "      j+=1\n",
        "      \n",
        "  return result_img"
      ],
      "execution_count": null,
      "outputs": []
    },
    {
      "metadata": {
        "id": "8IJtxhhWYUTo",
        "outputId": "2047d566-5c09-4c32-a356-371ebd331344",
        "colab": {
          "base_uri": "https://localhost:8080/",
          "height": 321
        }
      },
      "cell_type": "code",
      "source": [
        "YOUTUBE_ID = 'TH4V-yHbJXk'\n",
        "\n",
        "YouTubeVideo(YOUTUBE_ID)"
      ],
      "execution_count": 13,
      "outputs": [
        {
          "output_type": "execute_result",
          "data": {
            "text/plain": [
              "<IPython.lib.display.YouTubeVideo at 0x7f10f1ae6650>"
            ],
            "text/html": [
              "\n",
              "        <iframe\n",
              "            width=\"400\"\n",
              "            height=\"300\"\n",
              "            src=\"https://www.youtube.com/embed/TH4V-yHbJXk\"\n",
              "            frameborder=\"0\"\n",
              "            allowfullscreen\n",
              "        ></iframe>\n",
              "        "
            ],
            "image/jpeg": "[encoded data removed]"
          },
          "metadata": {},
          "execution_count": 13
        }
      ]
    },
    {
      "metadata": {
        "id": "EZuvnJcJ6ftp"
      },
      "cell_type": "markdown",
      "source": [
        "Primeiro, baixe o vídeo do youtube acima:\n",
        "\n"
      ]
    },
    {
      "metadata": {
        "id": "FnkZOPMPaHBb",
        "outputId": "3aefa872-bbda-44f4-bd70-b096309b1ee3",
        "colab": {
          "base_uri": "https://localhost:8080/"
        }
      },
      "cell_type": "code",
      "source": [
        "!rm -df youtube.mp4\n",
        "\n",
        "!youtube-dl -f 'bestvideo[ext=mp4]' --output \"youtube.%(ext)s\" https://www.youtube.com/watch?v=$YOUTUBE_ID\n",
        "# faça a detecção de objetos apenas nos primeiros 20 segundos...\n",
        "!ffmpeg -y -loglevel info -i youtube.mp4 -t 20 video.mp4"
      ],
      "execution_count": null,
      "outputs": [
        {
          "output_type": "stream",
          "name": "stdout",
          "text": [
            "\u001b[K[download] 100% of 43.31MiB in 10:51\n",
            "ffmpeg version 3.4.8-0ubuntu0.2 Copyright (c) 2000-2020 the FFmpeg developers\n",
            "  built with gcc 7 (Ubuntu 7.5.0-3ubuntu1~18.04)\n",
            "  configuration: --prefix=/usr --extra-version=0ubuntu0.2 --toolchain=hardened --libdir=/usr/lib/x86_64-linux-gnu --incdir=/usr/include/x86_64-linux-gnu --enable-gpl --disable-stripping --enable-avresample --enable-avisynth --enable-gnutls --enable-ladspa --enable-libass --enable-libbluray --enable-libbs2b --enable-libcaca --enable-libcdio --enable-libflite --enable-libfontconfig --enable-libfreetype --enable-libfribidi --enable-libgme --enable-libgsm --enable-libmp3lame --enable-libmysofa --enable-libopenjpeg --enable-libopenmpt --enable-libopus --enable-libpulse --enable-librubberband --enable-librsvg --enable-libshine --enable-libsnappy --enable-libsoxr --enable-libspeex --enable-libssh --enable-libtheora --enable-libtwolame --enable-libvorbis --enable-libvpx --enable-libwavpack --enable-libwebp --enable-libx265 --enable-libxml2 --enable-libxvid --enable-libzmq --enable-libzvbi --enable-omx --enable-openal --enable-opengl --enable-sdl2 --enable-libdc1394 --enable-libdrm --enable-libiec61883 --enable-chromaprint --enable-frei0r --enable-libopencv --enable-libx264 --enable-shared\n",
            "  libavutil      55. 78.100 / 55. 78.100\n",
            "  libavcodec     57.107.100 / 57.107.100\n",
            "  libavformat    57. 83.100 / 57. 83.100\n",
            "  libavdevice    57. 10.100 / 57. 10.100\n",
            "  libavfilter     6.107.100 /  6.107.100\n",
            "  libavresample   3.  7.  0 /  3.  7.  0\n",
            "  libswscale      4.  8.100 /  4.  8.100\n",
            "  libswresample   2.  9.100 /  2.  9.100\n",
            "  libpostproc    54.  7.100 / 54.  7.100\n",
            "Input #0, mov,mp4,m4a,3gp,3g2,mj2, from 'youtube.mp4':\n",
            "  Metadata:\n",
            "    major_brand     : dash\n",
            "    minor_version   : 0\n",
            "    compatible_brands: iso6avc1mp41\n",
            "    creation_time   : 2020-10-31T13:08:31.000000Z\n",
            "  Duration: 00:02:13.90, start: 0.000000, bitrate: 2713 kb/s\n",
            "    Stream #0:0(und): Video: h264 (High) (avc1 / 0x31637661), yuv420p(tv, bt709, progressive), 1920x1080 [SAR 1:1 DAR 16:9], 70 kb/s, 29.97 fps, 29.97 tbr, 30k tbn, 59.94 tbc (default)\n",
            "    Metadata:\n",
            "      creation_time   : 2020-10-31T13:08:31.000000Z\n",
            "      handler_name    : ISO Media file produced by Google Inc.\n",
            "Stream mapping:\n",
            "  Stream #0:0 -> #0:0 (h264 (native) -> h264 (libx264))\n",
            "Press [q] to stop, [?] for help\n",
            "\u001b[1;36m[libx264 @ 0x558ddd5f1900] \u001b[0musing SAR=1/1\n",
            "\u001b[1;36m[libx264 @ 0x558ddd5f1900] \u001b[0musing cpu capabilities: MMX2 SSE2Fast SSSE3 SSE4.2 AVX FMA3 BMI2 AVX2\n",
            "\u001b[1;36m[libx264 @ 0x558ddd5f1900] \u001b[0mprofile High, level 4.0\n",
            "\u001b[1;36m[libx264 @ 0x558ddd5f1900] \u001b[0m264 - core 152 r2854 e9a5903 - H.264/MPEG-4 AVC codec - Copyleft 2003-2017 - http://www.videolan.org/x264.html - options: cabac=1 ref=3 deblock=1:0:0 analyse=0x3:0x113 me=hex subme=7 psy=1 psy_rd=1.00:0.00 mixed_ref=1 me_range=16 chroma_me=1 trellis=1 8x8dct=1 cqm=0 deadzone=21,11 fast_pskip=1 chroma_qp_offset=-2 threads=3 lookahead_threads=1 sliced_threads=0 nr=0 decimate=1 interlaced=0 bluray_compat=0 constrained_intra=0 bframes=3 b_pyramid=2 b_adapt=1 b_bias=0 direct=1 weightb=1 open_gop=0 weightp=2 keyint=250 keyint_min=25 scenecut=40 intra_refresh=0 rc_lookahead=40 rc=crf mbtree=1 crf=23.0 qcomp=0.60 qpmin=0 qpmax=69 qpstep=4 ip_ratio=1.40 aq=1:1.00\n",
            "Output #0, mp4, to 'video.mp4':\n",
            "  Metadata:\n",
            "    major_brand     : dash\n",
            "    minor_version   : 0\n",
            "    compatible_brands: iso6avc1mp41\n",
            "    encoder         : Lavf57.83.100\n",
            "    Stream #0:0(und): Video: h264 (libx264) (avc1 / 0x31637661), yuv420p, 1920x1080 [SAR 1:1 DAR 16:9], q=-1--1, 29.97 fps, 30k tbn, 29.97 tbc (default)\n",
            "    Metadata:\n",
            "      creation_time   : 2020-10-31T13:08:31.000000Z\n",
            "      handler_name    : ISO Media file produced by Google Inc.\n",
            "      encoder         : Lavc57.107.100 libx264\n",
            "    Side data:\n",
            "      cpb: bitrate max/min/avg: 0/0/0 buffer size: 0 vbv_delay: -1\n"
          ]
        }
      ]
    },
    {
      "metadata": {
        "id": "h-_8nk1iB8Wg"
      },
      "cell_type": "markdown",
      "source": [
        "Agora detecte objetos no vídeo baixado:"
      ]
    },
    {
      "metadata": {
        "id": "HRvI5nOU97CH"
      },
      "cell_type": "code",
      "source": [
        "video_capture = cv2.VideoCapture()\n",
        "if video_capture.open('video.mp4'):\n",
        "  width, height = int(video_capture.get(cv2.CAP_PROP_FRAME_WIDTH)), int(video_capture.get(cv2.CAP_PROP_FRAME_HEIGHT))\n",
        "  fps = video_capture.get(cv2.CAP_PROP_FPS)\n",
        "  !rm -f output.mp4 output.avi\n",
        "  # não pode escrever mp4, então tente escrever em um arquivo AVI\n",
        "  video_writer = cv2.VideoWriter(\"output.avi\", cv2.VideoWriter_fourcc(*'MJPG'), fps, (width, height))\n",
        "  while video_capture.isOpened():\n",
        "    ret, frame = video_capture.read()\n",
        "    if not ret:\n",
        "      break\n",
        "      \n",
        "    start = time.time()\n",
        "    \n",
        "    rgb_frame = test(frame[:,:,::-1])\n",
        "    frame = rgb_frame[:,:,::-1]\n",
        "\n",
        "    end = time.time()\n",
        "    print(\"time: {}s, fps: {}\".format(end-start, 1/(end-start)))\n",
        "            \n",
        "    video_writer.write(frame)\n",
        "  video_capture.release()\n",
        "  video_writer.release()\n",
        "  \n",
        "  # convert AVI to MP4\n",
        "  !ffmpeg -y -loglevel info -i output.avi output.mp4\n",
        "else:\n",
        "  print(\"não é possível abrir o arquivo de vídeo de entrada fornecido!\")"
      ],
      "execution_count": null,
      "outputs": []
    },
    {
      "metadata": {
        "id": "wd3Zn3G-CTyP"
      },
      "cell_type": "markdown",
      "source": [
        "Mostre o vídeo do resultado:"
      ]
    },
    {
      "metadata": {
        "id": "auffCg9iHIeJ"
      },
      "cell_type": "code",
      "source": [
        "def show_local_mp4_video(file_name, width=640, height=480):\n",
        "  import io\n",
        "  import base64\n",
        "  from IPython.display import HTML\n",
        "  video_encoded = base64.b64encode(io.open(file_name, 'rb').read())\n",
        "  return HTML(data='''<video width=\"{0}\" height=\"{1}\" alt=\"test\" controls>\n",
        "                        <source src=\"data:video/mp4;base64,{2}\" type=\"video/mp4\" />\n",
        "                      </video>'''.format(width, height, video_encoded.decode('ascii')))\n",
        "\n",
        "show_local_mp4_video('output.mp4', width=960, height=720)"
      ],
      "execution_count": null,
      "outputs": []
    }
  ]
}